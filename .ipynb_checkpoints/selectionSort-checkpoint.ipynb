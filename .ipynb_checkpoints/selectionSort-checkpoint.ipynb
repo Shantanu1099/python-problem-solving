{
 "cells": [
  {
   "cell_type": "code",
   "execution_count": 21,
   "metadata": {},
   "outputs": [
    {
     "name": "stdout",
     "output_type": "stream",
     "text": [
      "Enter the size of array/list 5\n",
      "34\n",
      "22\n",
      "221\n",
      "23\n",
      "45\n",
      "List was already Sorted\n",
      "[22, 23, 34, 45, 221]\n"
     ]
    }
   ],
   "source": [
    "def smallest_num(myList):\n",
    "    is_sorted = True\n",
    "    for i in range(0, len(myList)):\n",
    "        store = myList[i]\n",
    "        for j in range(i+1, len(myList)):\n",
    "            if myList[j] < store:\n",
    "                store = myList[j]\n",
    "                mark = j\n",
    "                is_sorted = False\n",
    "            else:\n",
    "                continue\n",
    "        if is_sorted:\n",
    "            print(\"List was already Sorted\")\n",
    "            break\n",
    "        myList[i], myList[mark] = myList[mark], myList[i]\n",
    "        #print(myList) # Prints all the iterations making the code feasible to understand\n",
    "    print(myList)\n",
    "    \n",
    "                \n",
    "myList = []\n",
    "n = int(input(\"Enter the size of array/list \"))\n",
    "for ele in range(n):\n",
    "    i = int(input())\n",
    "    myList.append(i)\n",
    "smallest_num(myList)"
   ]
  },
  {
   "cell_type": "markdown",
   "metadata": {},
   "source": []
  }
 ],
 "metadata": {
  "kernelspec": {
   "display_name": "Python 3",
   "language": "python",
   "name": "python3"
  },
  "language_info": {
   "codemirror_mode": {
    "name": "ipython",
    "version": 3
   },
   "file_extension": ".py",
   "mimetype": "text/x-python",
   "name": "python",
   "nbconvert_exporter": "python",
   "pygments_lexer": "ipython3",
   "version": "3.8.5"
  }
 },
 "nbformat": 4,
 "nbformat_minor": 4
}
