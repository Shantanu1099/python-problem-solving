{
 "cells": [
  {
   "cell_type": "code",
   "execution_count": 22,
   "metadata": {},
   "outputs": [
    {
     "name": "stdout",
     "output_type": "stream",
     "text": [
      "Enter the number 5\n",
      "120\n"
     ]
    }
   ],
   "source": [
    "#Factorial\n",
    "def count_Num(num):\n",
    "    if num < 0:\n",
    "        return 0\n",
    "    elif(num == 1):\n",
    "        return 1\n",
    "    else:\n",
    "        return num*count_Num(num-1)\n",
    "num = int(input(\"Enter the number \"))\n",
    "n = count_Num(num)\n",
    "print(n)"
   ]
  },
  {
   "cell_type": "code",
   "execution_count": 25,
   "metadata": {},
   "outputs": [
    {
     "name": "stdout",
     "output_type": "stream",
     "text": [
      "Enter ur num 6\n",
      "6\n",
      "5\n",
      "4\n",
      "3\n",
      "2\n",
      "1\n",
      "0\n"
     ]
    }
   ],
   "source": [
    "#Count\n",
    "def count_desc(num):\n",
    "    print(num)\n",
    "    if num > 0:\n",
    "        count_desc(num-1)\n",
    "num = int(input(\"Enter ur num \"))\n",
    "count_desc(num)"
   ]
  },
  {
   "cell_type": "code",
   "execution_count": null,
   "metadata": {},
   "outputs": [],
   "source": [
    "#Adding all numbers in an array\n",
    "def add_Num(arr[]):\n",
    "\n",
    "num = int(input(\"Enter the length os a\"))\n",
    "for i in range num:\n",
    "    \n"
   ]
  }
 ],
 "metadata": {
  "kernelspec": {
   "display_name": "Python 3",
   "language": "python",
   "name": "python3"
  },
  "language_info": {
   "codemirror_mode": {
    "name": "ipython",
    "version": 3
   },
   "file_extension": ".py",
   "mimetype": "text/x-python",
   "name": "python",
   "nbconvert_exporter": "python",
   "pygments_lexer": "ipython3",
   "version": "3.8.5"
  }
 },
 "nbformat": 4,
 "nbformat_minor": 4
}
