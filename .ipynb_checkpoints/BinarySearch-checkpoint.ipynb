{
 "cells": [
  {
   "cell_type": "code",
   "execution_count": 19,
   "metadata": {},
   "outputs": [
    {
     "name": "stdout",
     "output_type": "stream",
     "text": [
      "Enter the size of array 6\n",
      "34\n",
      "45\n",
      "56\n",
      "67\n",
      "78\n",
      "88\n",
      "[34, 45, 56, 67, 78, 88]\n",
      "Enter the ele you want to search 78\n",
      "4\n"
     ]
    }
   ],
   "source": [
    "#for binary Search The list must be already sorted\n",
    "myList = []\n",
    "\n",
    "def binarySearch(myList, ele):\n",
    "    low = 0\n",
    "    high = len(myList)\n",
    "    while low <= high:\n",
    "        mid = int(low + (high-low)/2)\n",
    "        guess = ele\n",
    "        if guess == myList[mid]:\n",
    "            print(mid)\n",
    "            low = high+1\n",
    "        elif guess < myList[mid]:\n",
    "            high = mid-1\n",
    "        else:\n",
    "            low = mid+1\n",
    "    return None\n",
    "        \n",
    "n = int(input(\"Enter the size of array \"))\n",
    "for i in range(n):\n",
    "    i = int(input())\n",
    "    myList.append(i)\n",
    "    \n",
    "print(myList) # prints the lists\n",
    "ele = int(input(\"Enter the ele you want to search \"))\n",
    "binarySearch(myList, ele)"
   ]
  },
  {
   "cell_type": "code",
   "execution_count": null,
   "metadata": {},
   "outputs": [],
   "source": []
  }
 ],
 "metadata": {
  "kernelspec": {
   "display_name": "Python 3",
   "language": "python",
   "name": "python3"
  },
  "language_info": {
   "codemirror_mode": {
    "name": "ipython",
    "version": 3
   },
   "file_extension": ".py",
   "mimetype": "text/x-python",
   "name": "python",
   "nbconvert_exporter": "python",
   "pygments_lexer": "ipython3",
   "version": "3.8.5"
  }
 },
 "nbformat": 4,
 "nbformat_minor": 4
}
